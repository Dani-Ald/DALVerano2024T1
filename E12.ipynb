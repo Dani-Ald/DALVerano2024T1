{
 "cells": [
  {
   "cell_type": "code",
   "execution_count": 1,
   "metadata": {},
   "outputs": [],
   "source": [
    "#Importaciones para las funciones\n",
    "import Functions.clases_grouped as cg\n",
    "import Functions.clases_str_sort as clas_str_sort\n",
    "import Functions.fa_grouped as faGr\n",
    "import Functions.format_str as fStr\n",
    "import Functions.frec_abs as abs\n",
    "import Functions.frec_acum as acum\n",
    "import Functions.frec_rel as rel\n",
    "import Functions.ordenar_asc as orAsc\n",
    "import Functions.sort_clases_fa as scFa\n",
    "import Functions.tabla_grouped as tg\n",
    "import Functions.tabla as t\n",
    "\n",
    "# importaciones para los graficos\n",
    "import Graphics.Barras as grafBarras\n",
    "import Graphics.Pie as grafPie\n",
    "import Graphics.Histograma as grafHisto\n",
    "import Graphics.Ojiva as grafOjiva\n",
    "import Graphics.Poligonos as grafPoli\n",
    "# Graficos con limites (sup e inf)\n",
    "import Graphics_Lims.plotBarras as pBarras\n",
    "import Graphics_Lims.plotPie as pPie\n",
    "import Graphics_Lims.plotHistograma as pHistograma\n",
    "import Graphics_Lims.plotOjiva as pOjiva\n",
    "import Graphics_Lims.plotPoligono as pPoligono\n",
    "\n",
    "\n"
   ]
  },
  {
   "cell_type": "code",
   "execution_count": 2,
   "metadata": {},
   "outputs": [
    {
     "name": "stdout",
     "output_type": "stream",
     "text": [
      "sin ordenar f abs [1, 1, 1, 2, 1, 3, 1, 1, 1, 1, 1, 2, 1, 1, 1, 1, 2, 1, 1, 1, 1, 1, 1, 1, 1]\n",
      "Ordenadas f abs [1, 2, 1, 1, 3, 1, 1, 1, 1, 1, 1, 1, 1, 1, 1, 1, 2, 2, 1, 1, 1, 1, 1, 1, 1]\n",
      "  Clases         Fa                 Fr              F acumulada     \n",
      "---------- --------------- ------------------- -------------------\n",
      "Clase 250         1               3.333                3.333        \n",
      "Clase 260         2               6.667                10.000       \n",
      "Clase 270         1               3.333                13.333       \n",
      "Clase 300         1               3.333                16.667       \n",
      "Clase 330         3               10.000               26.667       \n",
      "Clase 340         1               3.333                30.000       \n",
      "Clase 360         1               3.333                33.333       \n",
      "Clase 380         1               3.333                36.667       \n",
      "Clase 390         1               3.333                40.000       \n",
      "Clase 400         1               3.333                43.333       \n",
      "Clase 410         1               3.333                46.667       \n",
      "Clase 420         1               3.333                50.000       \n",
      "Clase 440         1               3.333                53.333       \n",
      "Clase 460         1               3.333                56.667       \n",
      "Clase 470         1               3.333                60.000       \n",
      "Clase 500         1               3.333                63.333       \n",
      "Clase 510         2               6.667                70.000       \n",
      "Clase 530         2               6.667                76.667       \n",
      "Clase 540         1               3.333                80.000       \n",
      "Clase 580         1               3.333                83.333       \n",
      "Clase 630         1               3.333                86.667       \n",
      "Clase 740         1               3.333                90.000       \n",
      "Clase 750         1               3.333                93.333       \n",
      "Clase 770         1               3.333                96.667       \n",
      "Clase 790         1               3.333               100.000       \n"
     ]
    }
   ],
   "source": [
    "#USO\n",
    "datos_entrada = [250, 790, 470, 510, 500, 330,\n",
    "300, 750, 580, 740, 420, 260,\n",
    "440, 770, 400, 540, 530, 330,\n",
    "390, 380, 340, 460, 530, 260,\n",
    "410, 360, 270, 510, 630, 330]\n",
    "\n",
    "# Calcula la frecuencia absoluta de los datos\n",
    "clases, fa_ab = abs.frec_abs(datos_entrada)\n",
    "\n",
    "# Crea una copia de las clases originales sin ordenar\n",
    "clases_orig = clases.copy()\n",
    "\n",
    "# Obtiene las frecuencias absolutas ordenadas ascendente\n",
    "print(\"sin ordenar f abs\", fa_ab)\n",
    "fa_sorted = scFa.sort_clases_fa(clases_orig, orAsc.ordenar_asc(clases), fa_ab)\n",
    "print(\"Ordenadas f abs\", fa_sorted)\n",
    "# Calcula la frecuencia relativa\n",
    "frecuencia_rel = rel.frec_rel(fa_sorted)\n",
    "\n",
    "# Calcula la frecuencia relativa acumulada\n",
    "frecuencia_rel_acum = acum.frec_acum(frecuencia_rel)\n",
    "\n",
    "# Imprime las clases, su frecuencia relativa y su frecuencia relativa acumulada ordenadas de forma ascendente\n",
    "t.tabla(clases, fa_sorted, frecuencia_rel, frecuencia_rel_acum)\n"
   ]
  }
 ],
 "metadata": {
  "kernelspec": {
   "display_name": "Python 3",
   "language": "python",
   "name": "python3"
  },
  "language_info": {
   "codemirror_mode": {
    "name": "ipython",
    "version": 3
   },
   "file_extension": ".py",
   "mimetype": "text/x-python",
   "name": "python",
   "nbconvert_exporter": "python",
   "pygments_lexer": "ipython3",
   "version": "3.12.4"
  }
 },
 "nbformat": 4,
 "nbformat_minor": 2
}
